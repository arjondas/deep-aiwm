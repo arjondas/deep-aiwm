{
 "cells": [
  {
   "cell_type": "code",
   "execution_count": null,
   "id": "compact-spray",
   "metadata": {
    "_cell_guid": "b1076dfc-b9ad-4769-8c92-a6c4dae69d19",
    "_uuid": "8f2839f25d086af736a60e9eeb907d3b93b6e0e5",
    "execution": {
     "iopub.execute_input": "2021-05-04T18:13:16.059989Z",
     "iopub.status.busy": "2021-05-04T18:13:16.058898Z",
     "iopub.status.idle": "2021-05-04T18:13:24.406240Z",
     "shell.execute_reply": "2021-05-04T18:13:24.405524Z"
    },
    "papermill": {
     "duration": 8.377878,
     "end_time": "2021-05-04T18:13:24.406470",
     "exception": false,
     "start_time": "2021-05-04T18:13:16.028592",
     "status": "completed"
    },
    "tags": []
   },
   "outputs": [],
   "source": [
    "import numpy as np\n",
    "import tensorflow as tf\n",
    "import matplotlib.pyplot as plt\n",
    "from tqdm.auto import trange\n",
    "tf.random.set_seed(314) ##314\n",
    "np.random.seed(999)  ##999\n",
    "import json\n",
    "from model import AWM\n",
    "%matplotlib inline"
   ]
  },
  {
   "cell_type": "code",
   "execution_count": null,
   "id": "third-colon",
   "metadata": {
    "execution": {
     "iopub.execute_input": "2021-05-04T18:13:24.458123Z",
     "iopub.status.busy": "2021-05-04T18:13:24.444822Z",
     "iopub.status.idle": "2021-05-04T18:13:30.246524Z",
     "shell.execute_reply": "2021-05-04T18:13:30.245562Z"
    },
    "papermill": {
     "duration": 5.823658,
     "end_time": "2021-05-04T18:13:30.246677",
     "exception": false,
     "start_time": "2021-05-04T18:13:24.423019",
     "status": "completed"
    },
    "tags": []
   },
   "outputs": [],
   "source": [
    "try:\n",
    "    tpu = tf.distribute.cluster_resolver.TPUClusterResolver()\n",
    "    print('Running on TPU ', tpu.master())\n",
    "except ValueError:\n",
    "    tpu = None\n",
    "\n",
    "if tpu:\n",
    "    tf.config.experimental_connect_to_cluster(tpu)\n",
    "    tf.tpu.experimental.initialize_tpu_system(tpu)\n",
    "    strategy = tf.distribute.experimental.TPUStrategy(tpu)\n",
    "else:\n",
    "    strategy = tf.distribute.get_strategy()\n",
    "\n",
    "print(\"REPLICAS: \", strategy.num_replicas_in_sync)"
   ]
  },
  {
   "cell_type": "markdown",
   "id": "56576482",
   "metadata": {},
   "source": [
    "#### Notes on data preparation:\n",
    "* Need to import your own Audio and Image Dataset. For our training run we used the Speech Commands Dataset from Kaggle and resampled with a sampling rate of 8192. For images we used the MS COCO Dataset rescaled to 128x128 pixels.\n",
    "* Since we are training the model in TPU, it is necessary to offload the dataset into the memory first. That's why we are using preprocessed image and audio numpy blocks for dataset.\n",
    "* Audio dataset expected numpy shape: (Dataset_length, 8192, 1).\n",
    "* Image dataset expected numpy shape: (Dataset_length, 128, 128, 3)."
   ]
  },
  {
   "cell_type": "code",
   "execution_count": null,
   "id": "quality-painting",
   "metadata": {
    "execution": {
     "iopub.execute_input": "2021-05-04T18:13:30.288854Z",
     "iopub.status.busy": "2021-05-04T18:13:30.288127Z",
     "iopub.status.idle": "2021-05-04T18:13:30.291361Z",
     "shell.execute_reply": "2021-05-04T18:13:30.290787Z"
    },
    "papermill": {
     "duration": 0.028077,
     "end_time": "2021-05-04T18:13:30.291499",
     "exception": false,
     "start_time": "2021-05-04T18:13:30.263422",
     "status": "completed"
    },
    "tags": []
   },
   "outputs": [],
   "source": [
    "AUTO = tf.data.experimental.AUTOTUNE\n",
    "def get_dataset(batch_size = 128, dataset_type = 'train', audio_scale = 0.8, repeat=True):\n",
    "  ## Import your audio data here\n",
    "  audio_data = np.load(f'path_audio_numpy_block')\n",
    "\n",
    "  ## Import your image data here\n",
    "  img_data = np.load(f'path_image_numpy_block')[:len(audio_data)]\n",
    "  \n",
    "  print(f'{dataset_type} size: {len(audio_data)}')\n",
    "\n",
    "  def augment(img, audio):\n",
    "    img = tf.cast(img, tf.float32)\n",
    "    img /= 255.0\n",
    "    audio *= audio_scale\n",
    "    return img, audio\n",
    "\n",
    "  dataset = tf.data.Dataset.from_tensor_slices((img_data, audio_data))\n",
    "  dataset = dataset.map(augment)\n",
    "\n",
    "  if repeat:\n",
    "    dataset = dataset.repeat()\n",
    "    dataset = dataset.shuffle(len(img_data))\n",
    "  dataset = dataset.batch(batch_size, drop_remainder=True)\n",
    "  dataset = dataset.prefetch(AUTO)\n",
    "  return dataset"
   ]
  },
  {
   "cell_type": "code",
   "execution_count": null,
   "id": "proof-ceramic",
   "metadata": {
    "execution": {
     "iopub.execute_input": "2021-05-04T18:13:30.328565Z",
     "iopub.status.busy": "2021-05-04T18:13:30.327576Z",
     "iopub.status.idle": "2021-05-04T18:14:38.295654Z",
     "shell.execute_reply": "2021-05-04T18:14:38.296428Z"
    },
    "papermill": {
     "duration": 67.988747,
     "end_time": "2021-05-04T18:14:38.296642",
     "exception": false,
     "start_time": "2021-05-04T18:13:30.307895",
     "status": "completed"
    },
    "tags": []
   },
   "outputs": [],
   "source": [
    "BATCH_SIZE = 128\n",
    "PER_REPLICA_BATCH_SIZE = BATCH_SIZE // strategy.num_replicas_in_sync\n",
    "\n",
    "train_dataset = strategy.distribute_datasets_from_function(\n",
    "  lambda _ : get_dataset(PER_REPLICA_BATCH_SIZE)\n",
    ")\n",
    "\n",
    "val_dataset = strategy.distribute_datasets_from_function(\n",
    "  lambda _ : get_dataset(PER_REPLICA_BATCH_SIZE, 'val')\n",
    ")"
   ]
  },
  {
   "cell_type": "code",
   "execution_count": null,
   "id": "administrative-comedy",
   "metadata": {
    "execution": {
     "iopub.execute_input": "2021-05-04T18:14:38.334753Z",
     "iopub.status.busy": "2021-05-04T18:14:38.334083Z",
     "iopub.status.idle": "2021-05-04T18:14:41.492473Z",
     "shell.execute_reply": "2021-05-04T18:14:41.491762Z"
    },
    "papermill": {
     "duration": 3.17804,
     "end_time": "2021-05-04T18:14:41.492629",
     "exception": false,
     "start_time": "2021-05-04T18:14:38.314589",
     "status": "completed"
    },
    "tags": []
   },
   "outputs": [],
   "source": [
    "train_iterator = iter(train_dataset)\n",
    "val_iterator = iter(val_dataset)"
   ]
  },
  {
   "cell_type": "code",
   "execution_count": null,
   "id": "second-blond",
   "metadata": {
    "execution": {
     "iopub.execute_input": "2021-05-04T18:14:41.698161Z",
     "iopub.status.busy": "2021-05-04T18:14:41.697320Z",
     "iopub.status.idle": "2021-05-04T18:14:41.702309Z",
     "shell.execute_reply": "2021-05-04T18:14:41.701645Z"
    },
    "papermill": {
     "duration": 0.032859,
     "end_time": "2021-05-04T18:14:41.702446",
     "exception": false,
     "start_time": "2021-05-04T18:14:41.669587",
     "status": "completed"
    },
    "tags": []
   },
   "outputs": [],
   "source": [
    "def loss_function(pred, orig_audio, marked=None, orig_img=None):\n",
    "  img_loss = 10*tf.reduce_mean(tf.keras.losses.mean_squared_error(orig_img, marked))\n",
    "  audio_loss = 20*tf.reduce_mean(tf.keras.losses.mean_squared_error(orig_audio, pred))\n",
    "  return img_loss, audio_loss"
   ]
  },
  {
   "cell_type": "code",
   "execution_count": null,
   "id": "hydraulic-aircraft",
   "metadata": {
    "execution": {
     "iopub.execute_input": "2021-05-04T18:14:41.753686Z",
     "iopub.status.busy": "2021-05-04T18:14:41.751893Z",
     "iopub.status.idle": "2021-05-04T18:14:45.211076Z",
     "shell.execute_reply": "2021-05-04T18:14:45.210080Z"
    },
    "papermill": {
     "duration": 3.490991,
     "end_time": "2021-05-04T18:14:45.211241",
     "exception": false,
     "start_time": "2021-05-04T18:14:41.720250",
     "status": "completed"
    },
    "tags": []
   },
   "outputs": [],
   "source": [
    "@tf.function\n",
    "def train_step(iterator, steps_per_epoch):\n",
    "  def train_step_fn(inputs):\n",
    "    images, audios = inputs\n",
    "    with tf.GradientTape() as tape:\n",
    "      preds, enc, marked = o(audios, images)\n",
    "      img_loss, aud_loss = loss_fn(preds, audios, marked, images)\n",
    "      loss = img_loss + aud_loss\n",
    "      ssim = tf.image.ssim(images, marked, 1.0)\n",
    "    gradients = tape.gradient(loss, o.trainable_variables)\n",
    "    optim.apply_gradients(zip(gradients, o.trainable_variables))\n",
    "    training_loss.update_state(loss * strategy.num_replicas_in_sync)\n",
    "    training_accuracy.update_state(audios, preds)\n",
    "    training_ssim.update_state(ssim)\n",
    "\n",
    "  for _ in tf.range(steps_per_epoch):\n",
    "    strategy.run(train_step_fn, args=(next(iterator),))\n",
    "\n",
    "@tf.function\n",
    "def val_step(iterator, steps_per_epoch):\n",
    "  def val_step_fn(inputs):\n",
    "    images, audios = inputs\n",
    "    preds, enc, marked = o(audios, images)\n",
    "    img_loss, aud_loss = loss_fn(preds, audios, marked, images)\n",
    "    loss = img_loss + aud_loss\n",
    "    ssim = tf.image.ssim(images, marked, 1.0)\n",
    "    val_loss.update_state(loss * strategy.num_replicas_in_sync)\n",
    "    val_accuracy.update_state(audios, preds)\n",
    "    val_ssim.update_state(ssim)\n",
    "\n",
    "  for _ in tf.range(steps_per_epoch):\n",
    "    strategy.run(val_step_fn, args=(next(iterator),))\n",
    "\n",
    "with strategy.scope():\n",
    "  o = AWM()\n",
    "#   a = A2A()\n",
    "#   load_options = tf.saved_model.LoadOptions(experimental_io_device='/job:localhost')\n",
    "#   o.load_weights('../input/trained-weights/AWM_1091_E500/AWM_1091_E500/AWM_109', options=load_options)\n",
    "#   a.load_weights('../input/trained-weights/AWM_ENC_DEC/AWM_ENC_DEC/AWM_ENC_DEC_PRETRAINED_WEIGHTS_TPU', options=load_options)\n",
    "#   o.encoder = a.encoder\n",
    "#   o.decoder = a.decoder\n",
    "\n",
    "  optim = tf.keras.optimizers.Adam(learning_rate=0.0001)\n",
    "  training_loss = tf.keras.metrics.Mean()\n",
    "  val_loss = tf.keras.metrics.Mean()\n",
    "  training_accuracy = tf.keras.metrics.RootMeanSquaredError()\n",
    "  val_accuracy = tf.keras.metrics.RootMeanSquaredError()\n",
    "  training_ssim = tf.keras.metrics.Mean()\n",
    "  val_ssim = tf.keras.metrics.Mean()\n",
    "  loss_fn = loss_function"
   ]
  },
  {
   "cell_type": "code",
   "execution_count": null,
   "id": "egyptian-retro",
   "metadata": {
    "execution": {
     "iopub.execute_input": "2021-05-04T18:14:45.258591Z",
     "iopub.status.busy": "2021-05-04T18:14:45.257881Z",
     "iopub.status.idle": "2021-05-04T21:16:32.190498Z",
     "shell.execute_reply": "2021-05-04T21:16:32.189386Z"
    },
    "papermill": {
     "duration": 10906.961463,
     "end_time": "2021-05-04T21:16:32.190656",
     "exception": false,
     "start_time": "2021-05-04T18:14:45.229193",
     "status": "completed"
    },
    "tags": []
   },
   "outputs": [],
   "source": [
    "STEPS_PER_EPOCH_TRAIN = 42643 // BATCH_SIZE\n",
    "STEPS_PER_EPOCH_VAL = 9768 // BATCH_SIZE\n",
    "\n",
    "EPOCHS = 200\n",
    "losses = []\n",
    "losses_val = []\n",
    "accuracies = []\n",
    "accuracies_val = []\n",
    "ssims = []\n",
    "ssims_val = []\n",
    "\n",
    "for epoch in trange(EPOCHS):\n",
    "  train_step(train_iterator, STEPS_PER_EPOCH_TRAIN)\n",
    "  val_step(val_iterator, STEPS_PER_EPOCH_VAL)\n",
    "  \n",
    "  losses.append(float(training_loss.result().numpy()))\n",
    "  losses_val.append(float(val_loss.result().numpy()))\n",
    "  accuracies.append(float(training_accuracy.result().numpy()))\n",
    "  accuracies_val.append(float(val_accuracy.result().numpy()))\n",
    "  ssims.append(float(training_ssim.result().numpy()))\n",
    "  ssims_val.append(float(val_ssim.result().numpy()))\n",
    "  training_loss.reset_states()\n",
    "  training_accuracy.reset_states()\n",
    "  training_ssim.reset_states()\n",
    "  val_loss.reset_states()\n",
    "  val_accuracy.reset_states()\n",
    "  val_ssim.reset_states()"
   ]
  },
  {
   "cell_type": "code",
   "execution_count": null,
   "id": "wooden-george",
   "metadata": {
    "execution": {
     "iopub.execute_input": "2021-05-04T21:16:32.255643Z",
     "iopub.status.busy": "2021-05-04T21:16:32.254871Z",
     "iopub.status.idle": "2021-05-04T21:16:32.748111Z",
     "shell.execute_reply": "2021-05-04T21:16:32.748631Z"
    },
    "papermill": {
     "duration": 0.539813,
     "end_time": "2021-05-04T21:16:32.748829",
     "exception": false,
     "start_time": "2021-05-04T21:16:32.209016",
     "status": "completed"
    },
    "tags": []
   },
   "outputs": [],
   "source": [
    "plt.figure(figsize=(16, 9), dpi=150)\n",
    "plt.plot(losses)\n",
    "plt.plot(losses_val)\n",
    "plt.title(f'Loss vs Epoch')\n",
    "plt.legend(['Training Loss', 'Validation Loss'])\n",
    "plt.grid(ls='--')\n",
    "plt.show()"
   ]
  },
  {
   "cell_type": "code",
   "execution_count": null,
   "id": "linear-mount",
   "metadata": {
    "execution": {
     "iopub.execute_input": "2021-05-04T21:16:32.832125Z",
     "iopub.status.busy": "2021-05-04T21:16:32.831378Z",
     "iopub.status.idle": "2021-05-04T21:16:33.237527Z",
     "shell.execute_reply": "2021-05-04T21:16:33.238038Z"
    },
    "papermill": {
     "duration": 0.460887,
     "end_time": "2021-05-04T21:16:33.238219",
     "exception": false,
     "start_time": "2021-05-04T21:16:32.777332",
     "status": "completed"
    },
    "tags": []
   },
   "outputs": [],
   "source": [
    "plt.figure(figsize=(16, 9), dpi=150)\n",
    "plt.plot(accuracies)\n",
    "plt.plot(accuracies_val)\n",
    "\n",
    "plt.title(f'Accuracy vs Epoch')\n",
    "plt.legend(['Training Accuracy', 'Validation Accuracy'])\n",
    "plt.grid(ls='--')\n",
    "plt.show()"
   ]
  },
  {
   "cell_type": "code",
   "execution_count": null,
   "id": "palestinian-arrow",
   "metadata": {
    "execution": {
     "iopub.execute_input": "2021-05-04T21:16:33.344069Z",
     "iopub.status.busy": "2021-05-04T21:16:33.337111Z",
     "iopub.status.idle": "2021-05-04T21:16:33.724639Z",
     "shell.execute_reply": "2021-05-04T21:16:33.725158Z"
    },
    "papermill": {
     "duration": 0.449744,
     "end_time": "2021-05-04T21:16:33.725329",
     "exception": false,
     "start_time": "2021-05-04T21:16:33.275585",
     "status": "completed"
    },
    "tags": []
   },
   "outputs": [],
   "source": [
    "plt.figure(figsize=(16, 9), dpi=150)\n",
    "plt.plot(ssims)\n",
    "plt.plot(ssims_val)\n",
    "\n",
    "plt.title(f'Marked Image SSIM vs Epoch')\n",
    "plt.legend(['Training SSIM', 'Validation SSIM'])\n",
    "plt.grid(ls='--')\n",
    "plt.show()"
   ]
  },
  {
   "cell_type": "code",
   "execution_count": null,
   "id": "consecutive-trout",
   "metadata": {
    "execution": {
     "iopub.execute_input": "2021-05-04T21:16:33.819431Z",
     "iopub.status.busy": "2021-05-04T21:16:33.818597Z",
     "iopub.status.idle": "2021-05-04T21:16:33.822416Z",
     "shell.execute_reply": "2021-05-04T21:16:33.823033Z"
    },
    "papermill": {
     "duration": 0.053521,
     "end_time": "2021-05-04T21:16:33.823201",
     "exception": false,
     "start_time": "2021-05-04T21:16:33.769680",
     "status": "completed"
    },
    "tags": []
   },
   "outputs": [],
   "source": [
    "print(f'Max SSIM Score {max(ssims_val)} at epoch {ssims_val.index(max(ssims_val))+1}')"
   ]
  },
  {
   "cell_type": "code",
   "execution_count": null,
   "id": "boxed-madagascar",
   "metadata": {
    "execution": {
     "iopub.execute_input": "2021-05-04T21:16:33.929051Z",
     "iopub.status.busy": "2021-05-04T21:16:33.928017Z",
     "iopub.status.idle": "2021-05-04T21:16:33.931547Z",
     "shell.execute_reply": "2021-05-04T21:16:33.931010Z"
    },
    "papermill": {
     "duration": 0.063351,
     "end_time": "2021-05-04T21:16:33.931715",
     "exception": false,
     "start_time": "2021-05-04T21:16:33.868364",
     "status": "completed"
    },
    "tags": []
   },
   "outputs": [],
   "source": [
    "def visualize_output(model, dataset, samples=1, output_loss=False):\n",
    "  imgs, audios = next(dataset)\n",
    "  preds, enc, marked = model(audios, imgs)\n",
    "\n",
    "  for i in range(samples):\n",
    "    fig = plt.figure(figsize=(12, 6))\n",
    "\n",
    "    fig.add_subplot(241)\n",
    "    plt.title('Cover Image')\n",
    "    plt.imshow(imgs[i])\n",
    "\n",
    "    fig.add_subplot(242)\n",
    "    plt.title('Watermark')\n",
    "    plt.plot(audios[i])\n",
    "\n",
    "    fig.add_subplot(243)\n",
    "    plt.title('Marked')\n",
    "    plt.imshow(marked[i])\n",
    "\n",
    "    fig.add_subplot(244)\n",
    "    plt.title('Decoded Watermark')\n",
    "    plt.plot(preds[i])\n",
    "    plt.show()\n",
    "\n",
    "  if output_loss:\n",
    "    ssim = tf.reduce_mean(tf.image.ssim(imgs, marked, 1.0))\n",
    "    print('img ssim loss:', ssim.numpy())\n",
    "\n",
    "    loss = loss_function(preds, audios, marked, imgs)\n",
    "    print('img loss:', loss[0].numpy())\n",
    "    print('audio loss:', loss[1].numpy())"
   ]
  },
  {
   "cell_type": "code",
   "execution_count": null,
   "id": "experimental-accountability",
   "metadata": {
    "execution": {
     "iopub.execute_input": "2021-05-04T21:16:34.051505Z",
     "iopub.status.busy": "2021-05-04T21:16:34.027485Z",
     "iopub.status.idle": "2021-05-04T21:16:34.695495Z",
     "shell.execute_reply": "2021-05-04T21:16:34.694825Z"
    },
    "papermill": {
     "duration": 0.718753,
     "end_time": "2021-05-04T21:16:34.695636",
     "exception": false,
     "start_time": "2021-05-04T21:16:33.976883",
     "status": "completed"
    },
    "tags": []
   },
   "outputs": [],
   "source": [
    "save_options = tf.saved_model.SaveOptions(experimental_io_device='/job:localhost')\n",
    "o.save_weights('trained/AWM_109', options=save_options)"
   ]
  },
  {
   "cell_type": "code",
   "execution_count": null,
   "id": "residential-calgary",
   "metadata": {
    "execution": {
     "iopub.execute_input": "2021-05-04T21:16:34.789510Z",
     "iopub.status.busy": "2021-05-04T21:16:34.788892Z",
     "iopub.status.idle": "2021-05-04T21:16:45.571339Z",
     "shell.execute_reply": "2021-05-04T21:16:45.572578Z"
    },
    "papermill": {
     "duration": 10.832084,
     "end_time": "2021-05-04T21:16:45.572852",
     "exception": false,
     "start_time": "2021-05-04T21:16:34.740768",
     "status": "completed"
    },
    "tags": []
   },
   "outputs": [],
   "source": [
    "test_ds = get_dataset(32, dataset_type='test')\n",
    "test_iter = iter(test_ds)"
   ]
  },
  {
   "cell_type": "code",
   "execution_count": null,
   "id": "operational-invitation",
   "metadata": {
    "execution": {
     "iopub.execute_input": "2021-05-04T21:16:45.674805Z",
     "iopub.status.busy": "2021-05-04T21:16:45.674090Z",
     "iopub.status.idle": "2021-05-04T21:17:08.910545Z",
     "shell.execute_reply": "2021-05-04T21:17:08.911057Z"
    },
    "papermill": {
     "duration": 23.285917,
     "end_time": "2021-05-04T21:17:08.911230",
     "exception": false,
     "start_time": "2021-05-04T21:16:45.625313",
     "status": "completed"
    },
    "tags": []
   },
   "outputs": [],
   "source": [
    "visualize_output(o, test_iter, 32, False)"
   ]
  },
  {
   "cell_type": "code",
   "execution_count": null,
   "id": "pressing-custom",
   "metadata": {
    "execution": {
     "iopub.execute_input": "2021-05-04T21:17:09.282499Z",
     "iopub.status.busy": "2021-05-04T21:17:09.281533Z",
     "iopub.status.idle": "2021-05-04T21:17:09.287924Z",
     "shell.execute_reply": "2021-05-04T21:17:09.287384Z"
    },
    "papermill": {
     "duration": 0.177789,
     "end_time": "2021-05-04T21:17:09.288071",
     "exception": false,
     "start_time": "2021-05-04T21:17:09.110282",
     "status": "completed"
    },
    "tags": []
   },
   "outputs": [],
   "source": [
    "def save_history(array=[], desc=''):\n",
    "  with open(f'{desc}.json', 'w', encoding='utf-8') as f:\n",
    "    json.dump(array, f, ensure_ascii=False, indent=2)"
   ]
  },
  {
   "cell_type": "code",
   "execution_count": null,
   "id": "wired-personality",
   "metadata": {
    "execution": {
     "iopub.execute_input": "2021-05-04T21:17:09.638426Z",
     "iopub.status.busy": "2021-05-04T21:17:09.637770Z",
     "iopub.status.idle": "2021-05-04T21:17:09.646245Z",
     "shell.execute_reply": "2021-05-04T21:17:09.645640Z"
    },
    "papermill": {
     "duration": 0.18479,
     "end_time": "2021-05-04T21:17:09.646396",
     "exception": false,
     "start_time": "2021-05-04T21:17:09.461606",
     "status": "completed"
    },
    "tags": []
   },
   "outputs": [],
   "source": [
    "save_history(losses, 'train_loss')\n",
    "save_history(losses_val, 'val_loss')\n",
    "save_history(accuracies, 'train_acc')\n",
    "save_history(accuracies_val, 'val_acc')\n",
    "save_history(ssims, 'train_ssim')\n",
    "save_history(ssims_val, 'val_ssim')"
   ]
  }
 ],
 "metadata": {
  "kernelspec": {
   "display_name": "Python 3",
   "language": "python",
   "name": "python3"
  },
  "language_info": {
   "codemirror_mode": {
    "name": "ipython",
    "version": 3
   },
   "file_extension": ".py",
   "mimetype": "text/x-python",
   "name": "python",
   "nbconvert_exporter": "python",
   "pygments_lexer": "ipython3",
   "version": "3.7.10"
  },
  "papermill": {
   "default_parameters": {},
   "duration": 11044.699617,
   "end_time": "2021-05-04T21:17:12.368344",
   "environment_variables": {},
   "exception": null,
   "input_path": "__notebook__.ipynb",
   "output_path": "__notebook__.ipynb",
   "parameters": {},
   "start_time": "2021-05-04T18:13:07.668727",
   "version": "2.3.3"
  },
  "widgets": {
   "application/vnd.jupyter.widget-state+json": {
    "state": {
     "04cadc59b11045b9ad53cfb2b137a459": {
      "model_module": "@jupyter-widgets/controls",
      "model_module_version": "1.5.0",
      "model_name": "HTMLModel",
      "state": {
       "_dom_classes": [],
       "_model_module": "@jupyter-widgets/controls",
       "_model_module_version": "1.5.0",
       "_model_name": "HTMLModel",
       "_view_count": null,
       "_view_module": "@jupyter-widgets/controls",
       "_view_module_version": "1.5.0",
       "_view_name": "HTMLView",
       "description": "",
       "description_tooltip": null,
       "layout": "IPY_MODEL_4870052c87414e868ea451b6d9e53270",
       "placeholder": "​",
       "style": "IPY_MODEL_7bffdfdd184f4707ace2874a25db8bef",
       "value": "100%"
      }
     },
     "17721796a66b42c7973c199175338213": {
      "model_module": "@jupyter-widgets/base",
      "model_module_version": "1.2.0",
      "model_name": "LayoutModel",
      "state": {
       "_model_module": "@jupyter-widgets/base",
       "_model_module_version": "1.2.0",
       "_model_name": "LayoutModel",
       "_view_count": null,
       "_view_module": "@jupyter-widgets/base",
       "_view_module_version": "1.2.0",
       "_view_name": "LayoutView",
       "align_content": null,
       "align_items": null,
       "align_self": null,
       "border": null,
       "bottom": null,
       "display": null,
       "flex": null,
       "flex_flow": null,
       "grid_area": null,
       "grid_auto_columns": null,
       "grid_auto_flow": null,
       "grid_auto_rows": null,
       "grid_column": null,
       "grid_gap": null,
       "grid_row": null,
       "grid_template_areas": null,
       "grid_template_columns": null,
       "grid_template_rows": null,
       "height": null,
       "justify_content": null,
       "justify_items": null,
       "left": null,
       "margin": null,
       "max_height": null,
       "max_width": null,
       "min_height": null,
       "min_width": null,
       "object_fit": null,
       "object_position": null,
       "order": null,
       "overflow": null,
       "overflow_x": null,
       "overflow_y": null,
       "padding": null,
       "right": null,
       "top": null,
       "visibility": null,
       "width": null
      }
     },
     "2f7548421dd84caf8fb977f62b1af44b": {
      "model_module": "@jupyter-widgets/controls",
      "model_module_version": "1.5.0",
      "model_name": "HBoxModel",
      "state": {
       "_dom_classes": [],
       "_model_module": "@jupyter-widgets/controls",
       "_model_module_version": "1.5.0",
       "_model_name": "HBoxModel",
       "_view_count": null,
       "_view_module": "@jupyter-widgets/controls",
       "_view_module_version": "1.5.0",
       "_view_name": "HBoxView",
       "box_style": "",
       "children": [
        "IPY_MODEL_04cadc59b11045b9ad53cfb2b137a459",
        "IPY_MODEL_d5e48376cb3842c6adb244c070240766",
        "IPY_MODEL_6c1b8da107024106a934ea2d332df9d7"
       ],
       "layout": "IPY_MODEL_9ae316098e144946a32ff674c7740a88"
      }
     },
     "4870052c87414e868ea451b6d9e53270": {
      "model_module": "@jupyter-widgets/base",
      "model_module_version": "1.2.0",
      "model_name": "LayoutModel",
      "state": {
       "_model_module": "@jupyter-widgets/base",
       "_model_module_version": "1.2.0",
       "_model_name": "LayoutModel",
       "_view_count": null,
       "_view_module": "@jupyter-widgets/base",
       "_view_module_version": "1.2.0",
       "_view_name": "LayoutView",
       "align_content": null,
       "align_items": null,
       "align_self": null,
       "border": null,
       "bottom": null,
       "display": null,
       "flex": null,
       "flex_flow": null,
       "grid_area": null,
       "grid_auto_columns": null,
       "grid_auto_flow": null,
       "grid_auto_rows": null,
       "grid_column": null,
       "grid_gap": null,
       "grid_row": null,
       "grid_template_areas": null,
       "grid_template_columns": null,
       "grid_template_rows": null,
       "height": null,
       "justify_content": null,
       "justify_items": null,
       "left": null,
       "margin": null,
       "max_height": null,
       "max_width": null,
       "min_height": null,
       "min_width": null,
       "object_fit": null,
       "object_position": null,
       "order": null,
       "overflow": null,
       "overflow_x": null,
       "overflow_y": null,
       "padding": null,
       "right": null,
       "top": null,
       "visibility": null,
       "width": null
      }
     },
     "6c1b8da107024106a934ea2d332df9d7": {
      "model_module": "@jupyter-widgets/controls",
      "model_module_version": "1.5.0",
      "model_name": "HTMLModel",
      "state": {
       "_dom_classes": [],
       "_model_module": "@jupyter-widgets/controls",
       "_model_module_version": "1.5.0",
       "_model_name": "HTMLModel",
       "_view_count": null,
       "_view_module": "@jupyter-widgets/controls",
       "_view_module_version": "1.5.0",
       "_view_name": "HTMLView",
       "description": "",
       "description_tooltip": null,
       "layout": "IPY_MODEL_d3fc7266a6a147dc92827a38dc2debe7",
       "placeholder": "​",
       "style": "IPY_MODEL_aae4ddfe4d7e44038f5bba8293e7d318",
       "value": " 200/200 [3:01:46&lt;00:00, 54.33s/it]"
      }
     },
     "7bffdfdd184f4707ace2874a25db8bef": {
      "model_module": "@jupyter-widgets/controls",
      "model_module_version": "1.5.0",
      "model_name": "DescriptionStyleModel",
      "state": {
       "_model_module": "@jupyter-widgets/controls",
       "_model_module_version": "1.5.0",
       "_model_name": "DescriptionStyleModel",
       "_view_count": null,
       "_view_module": "@jupyter-widgets/base",
       "_view_module_version": "1.2.0",
       "_view_name": "StyleView",
       "description_width": ""
      }
     },
     "9ae316098e144946a32ff674c7740a88": {
      "model_module": "@jupyter-widgets/base",
      "model_module_version": "1.2.0",
      "model_name": "LayoutModel",
      "state": {
       "_model_module": "@jupyter-widgets/base",
       "_model_module_version": "1.2.0",
       "_model_name": "LayoutModel",
       "_view_count": null,
       "_view_module": "@jupyter-widgets/base",
       "_view_module_version": "1.2.0",
       "_view_name": "LayoutView",
       "align_content": null,
       "align_items": null,
       "align_self": null,
       "border": null,
       "bottom": null,
       "display": null,
       "flex": null,
       "flex_flow": null,
       "grid_area": null,
       "grid_auto_columns": null,
       "grid_auto_flow": null,
       "grid_auto_rows": null,
       "grid_column": null,
       "grid_gap": null,
       "grid_row": null,
       "grid_template_areas": null,
       "grid_template_columns": null,
       "grid_template_rows": null,
       "height": null,
       "justify_content": null,
       "justify_items": null,
       "left": null,
       "margin": null,
       "max_height": null,
       "max_width": null,
       "min_height": null,
       "min_width": null,
       "object_fit": null,
       "object_position": null,
       "order": null,
       "overflow": null,
       "overflow_x": null,
       "overflow_y": null,
       "padding": null,
       "right": null,
       "top": null,
       "visibility": null,
       "width": null
      }
     },
     "a98428007f84420396b7aa88069b294f": {
      "model_module": "@jupyter-widgets/controls",
      "model_module_version": "1.5.0",
      "model_name": "ProgressStyleModel",
      "state": {
       "_model_module": "@jupyter-widgets/controls",
       "_model_module_version": "1.5.0",
       "_model_name": "ProgressStyleModel",
       "_view_count": null,
       "_view_module": "@jupyter-widgets/base",
       "_view_module_version": "1.2.0",
       "_view_name": "StyleView",
       "bar_color": null,
       "description_width": ""
      }
     },
     "aae4ddfe4d7e44038f5bba8293e7d318": {
      "model_module": "@jupyter-widgets/controls",
      "model_module_version": "1.5.0",
      "model_name": "DescriptionStyleModel",
      "state": {
       "_model_module": "@jupyter-widgets/controls",
       "_model_module_version": "1.5.0",
       "_model_name": "DescriptionStyleModel",
       "_view_count": null,
       "_view_module": "@jupyter-widgets/base",
       "_view_module_version": "1.2.0",
       "_view_name": "StyleView",
       "description_width": ""
      }
     },
     "d3fc7266a6a147dc92827a38dc2debe7": {
      "model_module": "@jupyter-widgets/base",
      "model_module_version": "1.2.0",
      "model_name": "LayoutModel",
      "state": {
       "_model_module": "@jupyter-widgets/base",
       "_model_module_version": "1.2.0",
       "_model_name": "LayoutModel",
       "_view_count": null,
       "_view_module": "@jupyter-widgets/base",
       "_view_module_version": "1.2.0",
       "_view_name": "LayoutView",
       "align_content": null,
       "align_items": null,
       "align_self": null,
       "border": null,
       "bottom": null,
       "display": null,
       "flex": null,
       "flex_flow": null,
       "grid_area": null,
       "grid_auto_columns": null,
       "grid_auto_flow": null,
       "grid_auto_rows": null,
       "grid_column": null,
       "grid_gap": null,
       "grid_row": null,
       "grid_template_areas": null,
       "grid_template_columns": null,
       "grid_template_rows": null,
       "height": null,
       "justify_content": null,
       "justify_items": null,
       "left": null,
       "margin": null,
       "max_height": null,
       "max_width": null,
       "min_height": null,
       "min_width": null,
       "object_fit": null,
       "object_position": null,
       "order": null,
       "overflow": null,
       "overflow_x": null,
       "overflow_y": null,
       "padding": null,
       "right": null,
       "top": null,
       "visibility": null,
       "width": null
      }
     },
     "d5e48376cb3842c6adb244c070240766": {
      "model_module": "@jupyter-widgets/controls",
      "model_module_version": "1.5.0",
      "model_name": "FloatProgressModel",
      "state": {
       "_dom_classes": [],
       "_model_module": "@jupyter-widgets/controls",
       "_model_module_version": "1.5.0",
       "_model_name": "FloatProgressModel",
       "_view_count": null,
       "_view_module": "@jupyter-widgets/controls",
       "_view_module_version": "1.5.0",
       "_view_name": "ProgressView",
       "bar_style": "success",
       "description": "",
       "description_tooltip": null,
       "layout": "IPY_MODEL_17721796a66b42c7973c199175338213",
       "max": 200,
       "min": 0,
       "orientation": "horizontal",
       "style": "IPY_MODEL_a98428007f84420396b7aa88069b294f",
       "value": 200
      }
     }
    },
    "version_major": 2,
    "version_minor": 0
   }
  }
 },
 "nbformat": 4,
 "nbformat_minor": 5
}
